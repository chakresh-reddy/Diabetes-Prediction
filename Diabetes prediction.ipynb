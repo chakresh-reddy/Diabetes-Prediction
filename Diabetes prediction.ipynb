{
 "cells": [
  {
   "cell_type": "code",
   "execution_count": 183,
   "id": "31b3ece5",
   "metadata": {},
   "outputs": [],
   "source": [
    "import numpy as np\n",
    "import pandas as pd\n",
    "import matplotlib.pyplot as plt\n",
    "import seaborn as sns\n",
    "import warnings\n",
    "import lazypredict\n",
    "import sklearn\n",
    "import joblib"
   ]
  },
  {
   "cell_type": "code",
   "execution_count": 184,
   "id": "33bf26f5",
   "metadata": {},
   "outputs": [],
   "source": [
    "df = pd.read_csv(\"diabetes.csv\")"
   ]
  },
  {
   "cell_type": "code",
   "execution_count": 185,
   "id": "44948142",
   "metadata": {},
   "outputs": [
    {
     "data": {
      "text/html": [
       "<div>\n",
       "<style scoped>\n",
       "    .dataframe tbody tr th:only-of-type {\n",
       "        vertical-align: middle;\n",
       "    }\n",
       "\n",
       "    .dataframe tbody tr th {\n",
       "        vertical-align: top;\n",
       "    }\n",
       "\n",
       "    .dataframe thead th {\n",
       "        text-align: right;\n",
       "    }\n",
       "</style>\n",
       "<table border=\"1\" class=\"dataframe\">\n",
       "  <thead>\n",
       "    <tr style=\"text-align: right;\">\n",
       "      <th></th>\n",
       "      <th>Pregnancies</th>\n",
       "      <th>Glucose</th>\n",
       "      <th>BloodPressure</th>\n",
       "      <th>SkinThickness</th>\n",
       "      <th>Insulin</th>\n",
       "      <th>BMI</th>\n",
       "      <th>DiabetesPedigreeFunction</th>\n",
       "      <th>Age</th>\n",
       "      <th>Outcome</th>\n",
       "    </tr>\n",
       "  </thead>\n",
       "  <tbody>\n",
       "    <tr>\n",
       "      <th>0</th>\n",
       "      <td>6</td>\n",
       "      <td>148</td>\n",
       "      <td>72</td>\n",
       "      <td>35</td>\n",
       "      <td>250.00</td>\n",
       "      <td>33.60</td>\n",
       "      <td>0.63</td>\n",
       "      <td>50</td>\n",
       "      <td>1</td>\n",
       "    </tr>\n",
       "    <tr>\n",
       "      <th>1</th>\n",
       "      <td>1</td>\n",
       "      <td>85</td>\n",
       "      <td>66</td>\n",
       "      <td>29</td>\n",
       "      <td>300.00</td>\n",
       "      <td>26.60</td>\n",
       "      <td>0.35</td>\n",
       "      <td>31</td>\n",
       "      <td>0</td>\n",
       "    </tr>\n",
       "    <tr>\n",
       "      <th>2</th>\n",
       "      <td>8</td>\n",
       "      <td>183</td>\n",
       "      <td>64</td>\n",
       "      <td>0</td>\n",
       "      <td>NaN</td>\n",
       "      <td>23.30</td>\n",
       "      <td>0.67</td>\n",
       "      <td>32</td>\n",
       "      <td>1</td>\n",
       "    </tr>\n",
       "    <tr>\n",
       "      <th>3</th>\n",
       "      <td>1</td>\n",
       "      <td>89</td>\n",
       "      <td>66</td>\n",
       "      <td>23</td>\n",
       "      <td>94.00</td>\n",
       "      <td>28.10</td>\n",
       "      <td>0.17</td>\n",
       "      <td>21</td>\n",
       "      <td>0</td>\n",
       "    </tr>\n",
       "    <tr>\n",
       "      <th>4</th>\n",
       "      <td>0</td>\n",
       "      <td>137</td>\n",
       "      <td>40</td>\n",
       "      <td>35</td>\n",
       "      <td>168.00</td>\n",
       "      <td>43.10</td>\n",
       "      <td>2.29</td>\n",
       "      <td>33</td>\n",
       "      <td>1</td>\n",
       "    </tr>\n",
       "  </tbody>\n",
       "</table>\n",
       "</div>"
      ],
      "text/plain": [
       "   Pregnancies  Glucose  BloodPressure  SkinThickness  Insulin   BMI  \\\n",
       "0            6      148             72             35   250.00 33.60   \n",
       "1            1       85             66             29   300.00 26.60   \n",
       "2            8      183             64              0      NaN 23.30   \n",
       "3            1       89             66             23    94.00 28.10   \n",
       "4            0      137             40             35   168.00 43.10   \n",
       "\n",
       "   DiabetesPedigreeFunction  Age  Outcome  \n",
       "0                      0.63   50        1  \n",
       "1                      0.35   31        0  \n",
       "2                      0.67   32        1  \n",
       "3                      0.17   21        0  \n",
       "4                      2.29   33        1  "
      ]
     },
     "execution_count": 185,
     "metadata": {},
     "output_type": "execute_result"
    }
   ],
   "source": [
    "df.head()"
   ]
  },
  {
   "cell_type": "code",
   "execution_count": 228,
   "id": "8193e38a",
   "metadata": {},
   "outputs": [],
   "source": [
    "df[\"Outcome\"].replace((1, 0), (\"YES\", \"NO\"), inplace=True)"
   ]
  },
  {
   "cell_type": "code",
   "execution_count": 229,
   "id": "2221c923",
   "metadata": {},
   "outputs": [
    {
     "data": {
      "text/html": [
       "<div>\n",
       "<style scoped>\n",
       "    .dataframe tbody tr th:only-of-type {\n",
       "        vertical-align: middle;\n",
       "    }\n",
       "\n",
       "    .dataframe tbody tr th {\n",
       "        vertical-align: top;\n",
       "    }\n",
       "\n",
       "    .dataframe thead th {\n",
       "        text-align: right;\n",
       "    }\n",
       "</style>\n",
       "<table border=\"1\" class=\"dataframe\">\n",
       "  <thead>\n",
       "    <tr style=\"text-align: right;\">\n",
       "      <th></th>\n",
       "      <th>Pregnancies</th>\n",
       "      <th>Glucose</th>\n",
       "      <th>BloodPressure</th>\n",
       "      <th>SkinThickness</th>\n",
       "      <th>Insulin</th>\n",
       "      <th>BMI</th>\n",
       "      <th>DiabetesPedigreeFunction</th>\n",
       "      <th>Age</th>\n",
       "      <th>Outcome</th>\n",
       "    </tr>\n",
       "  </thead>\n",
       "  <tbody>\n",
       "    <tr>\n",
       "      <th>0</th>\n",
       "      <td>6</td>\n",
       "      <td>148</td>\n",
       "      <td>72</td>\n",
       "      <td>35</td>\n",
       "      <td>250.00</td>\n",
       "      <td>33.60</td>\n",
       "      <td>0.63</td>\n",
       "      <td>50</td>\n",
       "      <td>YES</td>\n",
       "    </tr>\n",
       "    <tr>\n",
       "      <th>1</th>\n",
       "      <td>1</td>\n",
       "      <td>85</td>\n",
       "      <td>66</td>\n",
       "      <td>29</td>\n",
       "      <td>300.00</td>\n",
       "      <td>26.60</td>\n",
       "      <td>0.35</td>\n",
       "      <td>31</td>\n",
       "      <td>NO</td>\n",
       "    </tr>\n",
       "    <tr>\n",
       "      <th>3</th>\n",
       "      <td>1</td>\n",
       "      <td>89</td>\n",
       "      <td>66</td>\n",
       "      <td>23</td>\n",
       "      <td>94.00</td>\n",
       "      <td>28.10</td>\n",
       "      <td>0.17</td>\n",
       "      <td>21</td>\n",
       "      <td>NO</td>\n",
       "    </tr>\n",
       "    <tr>\n",
       "      <th>4</th>\n",
       "      <td>0</td>\n",
       "      <td>137</td>\n",
       "      <td>40</td>\n",
       "      <td>35</td>\n",
       "      <td>168.00</td>\n",
       "      <td>43.10</td>\n",
       "      <td>2.29</td>\n",
       "      <td>33</td>\n",
       "      <td>YES</td>\n",
       "    </tr>\n",
       "    <tr>\n",
       "      <th>6</th>\n",
       "      <td>3</td>\n",
       "      <td>78</td>\n",
       "      <td>50</td>\n",
       "      <td>32</td>\n",
       "      <td>88.00</td>\n",
       "      <td>31.00</td>\n",
       "      <td>0.25</td>\n",
       "      <td>26</td>\n",
       "      <td>YES</td>\n",
       "    </tr>\n",
       "    <tr>\n",
       "      <th>...</th>\n",
       "      <td>...</td>\n",
       "      <td>...</td>\n",
       "      <td>...</td>\n",
       "      <td>...</td>\n",
       "      <td>...</td>\n",
       "      <td>...</td>\n",
       "      <td>...</td>\n",
       "      <td>...</td>\n",
       "      <td>...</td>\n",
       "    </tr>\n",
       "    <tr>\n",
       "      <th>763</th>\n",
       "      <td>10</td>\n",
       "      <td>101</td>\n",
       "      <td>76</td>\n",
       "      <td>48</td>\n",
       "      <td>180.00</td>\n",
       "      <td>32.90</td>\n",
       "      <td>0.17</td>\n",
       "      <td>63</td>\n",
       "      <td>NO</td>\n",
       "    </tr>\n",
       "    <tr>\n",
       "      <th>764</th>\n",
       "      <td>2</td>\n",
       "      <td>122</td>\n",
       "      <td>70</td>\n",
       "      <td>27</td>\n",
       "      <td>0.00</td>\n",
       "      <td>36.80</td>\n",
       "      <td>0.34</td>\n",
       "      <td>27</td>\n",
       "      <td>NO</td>\n",
       "    </tr>\n",
       "    <tr>\n",
       "      <th>765</th>\n",
       "      <td>5</td>\n",
       "      <td>121</td>\n",
       "      <td>72</td>\n",
       "      <td>23</td>\n",
       "      <td>112.00</td>\n",
       "      <td>26.20</td>\n",
       "      <td>0.24</td>\n",
       "      <td>30</td>\n",
       "      <td>NO</td>\n",
       "    </tr>\n",
       "    <tr>\n",
       "      <th>766</th>\n",
       "      <td>1</td>\n",
       "      <td>126</td>\n",
       "      <td>60</td>\n",
       "      <td>0</td>\n",
       "      <td>0.00</td>\n",
       "      <td>30.10</td>\n",
       "      <td>0.35</td>\n",
       "      <td>47</td>\n",
       "      <td>YES</td>\n",
       "    </tr>\n",
       "    <tr>\n",
       "      <th>767</th>\n",
       "      <td>1</td>\n",
       "      <td>93</td>\n",
       "      <td>70</td>\n",
       "      <td>31</td>\n",
       "      <td>0.00</td>\n",
       "      <td>30.40</td>\n",
       "      <td>0.32</td>\n",
       "      <td>23</td>\n",
       "      <td>NO</td>\n",
       "    </tr>\n",
       "  </tbody>\n",
       "</table>\n",
       "<p>766 rows × 9 columns</p>\n",
       "</div>"
      ],
      "text/plain": [
       "     Pregnancies  Glucose  BloodPressure  SkinThickness  Insulin   BMI  \\\n",
       "0              6      148             72             35   250.00 33.60   \n",
       "1              1       85             66             29   300.00 26.60   \n",
       "3              1       89             66             23    94.00 28.10   \n",
       "4              0      137             40             35   168.00 43.10   \n",
       "6              3       78             50             32    88.00 31.00   \n",
       "..           ...      ...            ...            ...      ...   ...   \n",
       "763           10      101             76             48   180.00 32.90   \n",
       "764            2      122             70             27     0.00 36.80   \n",
       "765            5      121             72             23   112.00 26.20   \n",
       "766            1      126             60              0     0.00 30.10   \n",
       "767            1       93             70             31     0.00 30.40   \n",
       "\n",
       "     DiabetesPedigreeFunction  Age Outcome  \n",
       "0                        0.63   50     YES  \n",
       "1                        0.35   31      NO  \n",
       "3                        0.17   21      NO  \n",
       "4                        2.29   33     YES  \n",
       "6                        0.25   26     YES  \n",
       "..                        ...  ...     ...  \n",
       "763                      0.17   63      NO  \n",
       "764                      0.34   27      NO  \n",
       "765                      0.24   30      NO  \n",
       "766                      0.35   47     YES  \n",
       "767                      0.32   23      NO  \n",
       "\n",
       "[766 rows x 9 columns]"
      ]
     },
     "execution_count": 229,
     "metadata": {},
     "output_type": "execute_result"
    }
   ],
   "source": [
    "df"
   ]
  },
  {
   "cell_type": "code",
   "execution_count": 230,
   "id": "f3c7b919",
   "metadata": {},
   "outputs": [
    {
     "data": {
      "text/html": [
       "<div>\n",
       "<style scoped>\n",
       "    .dataframe tbody tr th:only-of-type {\n",
       "        vertical-align: middle;\n",
       "    }\n",
       "\n",
       "    .dataframe tbody tr th {\n",
       "        vertical-align: top;\n",
       "    }\n",
       "\n",
       "    .dataframe thead th {\n",
       "        text-align: right;\n",
       "    }\n",
       "</style>\n",
       "<table border=\"1\" class=\"dataframe\">\n",
       "  <thead>\n",
       "    <tr style=\"text-align: right;\">\n",
       "      <th></th>\n",
       "      <th>Pregnancies</th>\n",
       "      <th>Glucose</th>\n",
       "      <th>BloodPressure</th>\n",
       "      <th>SkinThickness</th>\n",
       "      <th>Insulin</th>\n",
       "      <th>BMI</th>\n",
       "      <th>DiabetesPedigreeFunction</th>\n",
       "      <th>Age</th>\n",
       "    </tr>\n",
       "  </thead>\n",
       "  <tbody>\n",
       "    <tr>\n",
       "      <th>count</th>\n",
       "      <td>766.00</td>\n",
       "      <td>766.00</td>\n",
       "      <td>766.00</td>\n",
       "      <td>766.00</td>\n",
       "      <td>766.00</td>\n",
       "      <td>766.00</td>\n",
       "      <td>766.00</td>\n",
       "      <td>766.00</td>\n",
       "    </tr>\n",
       "    <tr>\n",
       "      <th>mean</th>\n",
       "      <td>3.84</td>\n",
       "      <td>120.82</td>\n",
       "      <td>69.11</td>\n",
       "      <td>20.59</td>\n",
       "      <td>81.25</td>\n",
       "      <td>32.01</td>\n",
       "      <td>0.47</td>\n",
       "      <td>33.25</td>\n",
       "    </tr>\n",
       "    <tr>\n",
       "      <th>std</th>\n",
       "      <td>3.37</td>\n",
       "      <td>31.93</td>\n",
       "      <td>19.38</td>\n",
       "      <td>15.94</td>\n",
       "      <td>116.22</td>\n",
       "      <td>7.88</td>\n",
       "      <td>0.33</td>\n",
       "      <td>11.77</td>\n",
       "    </tr>\n",
       "    <tr>\n",
       "      <th>min</th>\n",
       "      <td>0.00</td>\n",
       "      <td>0.00</td>\n",
       "      <td>0.00</td>\n",
       "      <td>0.00</td>\n",
       "      <td>0.00</td>\n",
       "      <td>0.00</td>\n",
       "      <td>0.08</td>\n",
       "      <td>21.00</td>\n",
       "    </tr>\n",
       "    <tr>\n",
       "      <th>25%</th>\n",
       "      <td>1.00</td>\n",
       "      <td>99.00</td>\n",
       "      <td>62.00</td>\n",
       "      <td>0.00</td>\n",
       "      <td>0.00</td>\n",
       "      <td>27.32</td>\n",
       "      <td>0.24</td>\n",
       "      <td>24.00</td>\n",
       "    </tr>\n",
       "    <tr>\n",
       "      <th>50%</th>\n",
       "      <td>3.00</td>\n",
       "      <td>117.00</td>\n",
       "      <td>72.00</td>\n",
       "      <td>23.00</td>\n",
       "      <td>36.50</td>\n",
       "      <td>32.00</td>\n",
       "      <td>0.37</td>\n",
       "      <td>29.00</td>\n",
       "    </tr>\n",
       "    <tr>\n",
       "      <th>75%</th>\n",
       "      <td>6.00</td>\n",
       "      <td>140.00</td>\n",
       "      <td>80.00</td>\n",
       "      <td>32.00</td>\n",
       "      <td>130.00</td>\n",
       "      <td>36.60</td>\n",
       "      <td>0.63</td>\n",
       "      <td>41.00</td>\n",
       "    </tr>\n",
       "    <tr>\n",
       "      <th>max</th>\n",
       "      <td>17.00</td>\n",
       "      <td>199.00</td>\n",
       "      <td>122.00</td>\n",
       "      <td>99.00</td>\n",
       "      <td>846.00</td>\n",
       "      <td>67.10</td>\n",
       "      <td>2.42</td>\n",
       "      <td>81.00</td>\n",
       "    </tr>\n",
       "  </tbody>\n",
       "</table>\n",
       "</div>"
      ],
      "text/plain": [
       "       Pregnancies  Glucose  BloodPressure  SkinThickness  Insulin    BMI  \\\n",
       "count       766.00   766.00         766.00         766.00   766.00 766.00   \n",
       "mean          3.84   120.82          69.11          20.59    81.25  32.01   \n",
       "std           3.37    31.93          19.38          15.94   116.22   7.88   \n",
       "min           0.00     0.00           0.00           0.00     0.00   0.00   \n",
       "25%           1.00    99.00          62.00           0.00     0.00  27.32   \n",
       "50%           3.00   117.00          72.00          23.00    36.50  32.00   \n",
       "75%           6.00   140.00          80.00          32.00   130.00  36.60   \n",
       "max          17.00   199.00         122.00          99.00   846.00  67.10   \n",
       "\n",
       "       DiabetesPedigreeFunction    Age  \n",
       "count                    766.00 766.00  \n",
       "mean                       0.47  33.25  \n",
       "std                        0.33  11.77  \n",
       "min                        0.08  21.00  \n",
       "25%                        0.24  24.00  \n",
       "50%                        0.37  29.00  \n",
       "75%                        0.63  41.00  \n",
       "max                        2.42  81.00  "
      ]
     },
     "execution_count": 230,
     "metadata": {},
     "output_type": "execute_result"
    }
   ],
   "source": [
    "df.describe()"
   ]
  },
  {
   "cell_type": "code",
   "execution_count": 231,
   "id": "23f02615",
   "metadata": {},
   "outputs": [
    {
     "data": {
      "text/html": [
       "<div>\n",
       "<style scoped>\n",
       "    .dataframe tbody tr th:only-of-type {\n",
       "        vertical-align: middle;\n",
       "    }\n",
       "\n",
       "    .dataframe tbody tr th {\n",
       "        vertical-align: top;\n",
       "    }\n",
       "\n",
       "    .dataframe thead th {\n",
       "        text-align: right;\n",
       "    }\n",
       "</style>\n",
       "<table border=\"1\" class=\"dataframe\">\n",
       "  <thead>\n",
       "    <tr style=\"text-align: right;\">\n",
       "      <th></th>\n",
       "      <th>Pregnancies</th>\n",
       "      <th>Glucose</th>\n",
       "      <th>BloodPressure</th>\n",
       "      <th>SkinThickness</th>\n",
       "      <th>Insulin</th>\n",
       "      <th>BMI</th>\n",
       "      <th>DiabetesPedigreeFunction</th>\n",
       "      <th>Age</th>\n",
       "      <th>Outcome</th>\n",
       "    </tr>\n",
       "  </thead>\n",
       "  <tbody>\n",
       "    <tr>\n",
       "      <th>763</th>\n",
       "      <td>10</td>\n",
       "      <td>101</td>\n",
       "      <td>76</td>\n",
       "      <td>48</td>\n",
       "      <td>180.00</td>\n",
       "      <td>32.90</td>\n",
       "      <td>0.17</td>\n",
       "      <td>63</td>\n",
       "      <td>NO</td>\n",
       "    </tr>\n",
       "    <tr>\n",
       "      <th>764</th>\n",
       "      <td>2</td>\n",
       "      <td>122</td>\n",
       "      <td>70</td>\n",
       "      <td>27</td>\n",
       "      <td>0.00</td>\n",
       "      <td>36.80</td>\n",
       "      <td>0.34</td>\n",
       "      <td>27</td>\n",
       "      <td>NO</td>\n",
       "    </tr>\n",
       "    <tr>\n",
       "      <th>765</th>\n",
       "      <td>5</td>\n",
       "      <td>121</td>\n",
       "      <td>72</td>\n",
       "      <td>23</td>\n",
       "      <td>112.00</td>\n",
       "      <td>26.20</td>\n",
       "      <td>0.24</td>\n",
       "      <td>30</td>\n",
       "      <td>NO</td>\n",
       "    </tr>\n",
       "    <tr>\n",
       "      <th>766</th>\n",
       "      <td>1</td>\n",
       "      <td>126</td>\n",
       "      <td>60</td>\n",
       "      <td>0</td>\n",
       "      <td>0.00</td>\n",
       "      <td>30.10</td>\n",
       "      <td>0.35</td>\n",
       "      <td>47</td>\n",
       "      <td>YES</td>\n",
       "    </tr>\n",
       "    <tr>\n",
       "      <th>767</th>\n",
       "      <td>1</td>\n",
       "      <td>93</td>\n",
       "      <td>70</td>\n",
       "      <td>31</td>\n",
       "      <td>0.00</td>\n",
       "      <td>30.40</td>\n",
       "      <td>0.32</td>\n",
       "      <td>23</td>\n",
       "      <td>NO</td>\n",
       "    </tr>\n",
       "  </tbody>\n",
       "</table>\n",
       "</div>"
      ],
      "text/plain": [
       "     Pregnancies  Glucose  BloodPressure  SkinThickness  Insulin   BMI  \\\n",
       "763           10      101             76             48   180.00 32.90   \n",
       "764            2      122             70             27     0.00 36.80   \n",
       "765            5      121             72             23   112.00 26.20   \n",
       "766            1      126             60              0     0.00 30.10   \n",
       "767            1       93             70             31     0.00 30.40   \n",
       "\n",
       "     DiabetesPedigreeFunction  Age Outcome  \n",
       "763                      0.17   63      NO  \n",
       "764                      0.34   27      NO  \n",
       "765                      0.24   30      NO  \n",
       "766                      0.35   47     YES  \n",
       "767                      0.32   23      NO  "
      ]
     },
     "execution_count": 231,
     "metadata": {},
     "output_type": "execute_result"
    }
   ],
   "source": [
    "df.tail()"
   ]
  },
  {
   "cell_type": "code",
   "execution_count": 232,
   "id": "c14e2c67",
   "metadata": {},
   "outputs": [
    {
     "data": {
      "text/plain": [
       "Pregnancies                 0\n",
       "Glucose                     0\n",
       "BloodPressure               0\n",
       "SkinThickness               0\n",
       "Insulin                     0\n",
       "BMI                         0\n",
       "DiabetesPedigreeFunction    0\n",
       "Age                         0\n",
       "Outcome                     0\n",
       "dtype: int64"
      ]
     },
     "execution_count": 232,
     "metadata": {},
     "output_type": "execute_result"
    }
   ],
   "source": [
    "df.isna().sum()"
   ]
  },
  {
   "cell_type": "code",
   "execution_count": 233,
   "id": "fe1274b7",
   "metadata": {},
   "outputs": [],
   "source": [
    "df.dropna(inplace=True)"
   ]
  },
  {
   "cell_type": "code",
   "execution_count": 234,
   "id": "4c5864d6",
   "metadata": {},
   "outputs": [
    {
     "data": {
      "text/plain": [
       "Pregnancies                 0\n",
       "Glucose                     0\n",
       "BloodPressure               0\n",
       "SkinThickness               0\n",
       "Insulin                     0\n",
       "BMI                         0\n",
       "DiabetesPedigreeFunction    0\n",
       "Age                         0\n",
       "Outcome                     0\n",
       "dtype: int64"
      ]
     },
     "execution_count": 234,
     "metadata": {},
     "output_type": "execute_result"
    }
   ],
   "source": [
    "df.isna().sum()"
   ]
  },
  {
   "cell_type": "code",
   "execution_count": 235,
   "id": "cec59c86",
   "metadata": {},
   "outputs": [
    {
     "data": {
      "text/plain": [
       "<AxesSubplot:>"
      ]
     },
     "execution_count": 235,
     "metadata": {},
     "output_type": "execute_result"
    },
    {
     "data": {
      "image/png": "[encoded data removed]",
      "text/plain": [
       "<Figure size 640x480 with 2 Axes>"
      ]
     },
     "metadata": {},
     "output_type": "display_data"
    }
   ],
   "source": [
    "sns.heatmap(df.isna())"
   ]
  },
  {
   "cell_type": "code",
   "execution_count": 236,
   "id": "3c56e2a7",
   "metadata": {},
   "outputs": [
    {
     "data": {
      "text/html": [
       "<div>\n",
       "<style scoped>\n",
       "    .dataframe tbody tr th:only-of-type {\n",
       "        vertical-align: middle;\n",
       "    }\n",
       "\n",
       "    .dataframe tbody tr th {\n",
       "        vertical-align: top;\n",
       "    }\n",
       "\n",
       "    .dataframe thead th {\n",
       "        text-align: right;\n",
       "    }\n",
       "</style>\n",
       "<table border=\"1\" class=\"dataframe\">\n",
       "  <thead>\n",
       "    <tr style=\"text-align: right;\">\n",
       "      <th></th>\n",
       "      <th>Pregnancies</th>\n",
       "      <th>Glucose</th>\n",
       "      <th>BloodPressure</th>\n",
       "      <th>SkinThickness</th>\n",
       "      <th>Insulin</th>\n",
       "      <th>BMI</th>\n",
       "      <th>DiabetesPedigreeFunction</th>\n",
       "      <th>Age</th>\n",
       "      <th>Outcome</th>\n",
       "    </tr>\n",
       "  </thead>\n",
       "  <tbody>\n",
       "    <tr>\n",
       "      <th>291</th>\n",
       "      <td>0</td>\n",
       "      <td>107</td>\n",
       "      <td>62</td>\n",
       "      <td>30</td>\n",
       "      <td>74.00</td>\n",
       "      <td>36.60</td>\n",
       "      <td>0.76</td>\n",
       "      <td>25</td>\n",
       "      <td>YES</td>\n",
       "    </tr>\n",
       "    <tr>\n",
       "      <th>10</th>\n",
       "      <td>4</td>\n",
       "      <td>110</td>\n",
       "      <td>92</td>\n",
       "      <td>0</td>\n",
       "      <td>0.00</td>\n",
       "      <td>37.60</td>\n",
       "      <td>0.19</td>\n",
       "      <td>30</td>\n",
       "      <td>NO</td>\n",
       "    </tr>\n",
       "    <tr>\n",
       "      <th>624</th>\n",
       "      <td>2</td>\n",
       "      <td>108</td>\n",
       "      <td>64</td>\n",
       "      <td>0</td>\n",
       "      <td>0.00</td>\n",
       "      <td>30.80</td>\n",
       "      <td>0.16</td>\n",
       "      <td>21</td>\n",
       "      <td>NO</td>\n",
       "    </tr>\n",
       "    <tr>\n",
       "      <th>126</th>\n",
       "      <td>3</td>\n",
       "      <td>120</td>\n",
       "      <td>70</td>\n",
       "      <td>30</td>\n",
       "      <td>135.00</td>\n",
       "      <td>42.90</td>\n",
       "      <td>0.45</td>\n",
       "      <td>30</td>\n",
       "      <td>NO</td>\n",
       "    </tr>\n",
       "    <tr>\n",
       "      <th>759</th>\n",
       "      <td>6</td>\n",
       "      <td>190</td>\n",
       "      <td>92</td>\n",
       "      <td>0</td>\n",
       "      <td>0.00</td>\n",
       "      <td>35.50</td>\n",
       "      <td>0.28</td>\n",
       "      <td>66</td>\n",
       "      <td>YES</td>\n",
       "    </tr>\n",
       "    <tr>\n",
       "      <th>685</th>\n",
       "      <td>2</td>\n",
       "      <td>129</td>\n",
       "      <td>74</td>\n",
       "      <td>26</td>\n",
       "      <td>205.00</td>\n",
       "      <td>33.20</td>\n",
       "      <td>0.59</td>\n",
       "      <td>25</td>\n",
       "      <td>NO</td>\n",
       "    </tr>\n",
       "    <tr>\n",
       "      <th>567</th>\n",
       "      <td>6</td>\n",
       "      <td>92</td>\n",
       "      <td>62</td>\n",
       "      <td>32</td>\n",
       "      <td>126.00</td>\n",
       "      <td>32.00</td>\n",
       "      <td>0.09</td>\n",
       "      <td>46</td>\n",
       "      <td>NO</td>\n",
       "    </tr>\n",
       "    <tr>\n",
       "      <th>223</th>\n",
       "      <td>7</td>\n",
       "      <td>142</td>\n",
       "      <td>60</td>\n",
       "      <td>33</td>\n",
       "      <td>190.00</td>\n",
       "      <td>28.80</td>\n",
       "      <td>0.69</td>\n",
       "      <td>61</td>\n",
       "      <td>NO</td>\n",
       "    </tr>\n",
       "    <tr>\n",
       "      <th>251</th>\n",
       "      <td>2</td>\n",
       "      <td>129</td>\n",
       "      <td>84</td>\n",
       "      <td>0</td>\n",
       "      <td>0.00</td>\n",
       "      <td>28.00</td>\n",
       "      <td>0.28</td>\n",
       "      <td>27</td>\n",
       "      <td>NO</td>\n",
       "    </tr>\n",
       "    <tr>\n",
       "      <th>303</th>\n",
       "      <td>5</td>\n",
       "      <td>115</td>\n",
       "      <td>98</td>\n",
       "      <td>0</td>\n",
       "      <td>0.00</td>\n",
       "      <td>52.90</td>\n",
       "      <td>0.21</td>\n",
       "      <td>28</td>\n",
       "      <td>YES</td>\n",
       "    </tr>\n",
       "  </tbody>\n",
       "</table>\n",
       "</div>"
      ],
      "text/plain": [
       "     Pregnancies  Glucose  BloodPressure  SkinThickness  Insulin   BMI  \\\n",
       "291            0      107             62             30    74.00 36.60   \n",
       "10             4      110             92              0     0.00 37.60   \n",
       "624            2      108             64              0     0.00 30.80   \n",
       "126            3      120             70             30   135.00 42.90   \n",
       "759            6      190             92              0     0.00 35.50   \n",
       "685            2      129             74             26   205.00 33.20   \n",
       "567            6       92             62             32   126.00 32.00   \n",
       "223            7      142             60             33   190.00 28.80   \n",
       "251            2      129             84              0     0.00 28.00   \n",
       "303            5      115             98              0     0.00 52.90   \n",
       "\n",
       "     DiabetesPedigreeFunction  Age Outcome  \n",
       "291                      0.76   25     YES  \n",
       "10                       0.19   30      NO  \n",
       "624                      0.16   21      NO  \n",
       "126                      0.45   30      NO  \n",
       "759                      0.28   66     YES  \n",
       "685                      0.59   25      NO  \n",
       "567                      0.09   46      NO  \n",
       "223                      0.69   61      NO  \n",
       "251                      0.28   27      NO  \n",
       "303                      0.21   28     YES  "
      ]
     },
     "execution_count": 236,
     "metadata": {},
     "output_type": "execute_result"
    }
   ],
   "source": [
    "df.sample(10)"
   ]
  },
  {
   "cell_type": "code",
   "execution_count": 237,
   "id": "e9cd1cbd",
   "metadata": {},
   "outputs": [
    {
     "data": {
      "text/plain": [
       "(766, 9)"
      ]
     },
     "execution_count": 237,
     "metadata": {},
     "output_type": "execute_result"
    }
   ],
   "source": [
    "df.shape"
   ]
  },
  {
   "cell_type": "code",
   "execution_count": 238,
   "id": "4a23fcbc",
   "metadata": {},
   "outputs": [
    {
     "data": {
      "text/plain": [
       "Pregnancies                   int64\n",
       "Glucose                       int64\n",
       "BloodPressure                 int64\n",
       "SkinThickness                 int64\n",
       "Insulin                     float64\n",
       "BMI                         float64\n",
       "DiabetesPedigreeFunction    float64\n",
       "Age                           int64\n",
       "Outcome                      object\n",
       "dtype: object"
      ]
     },
     "execution_count": 238,
     "metadata": {},
     "output_type": "execute_result"
    }
   ],
   "source": [
    "df.dtypes"
   ]
  },
  {
   "cell_type": "code",
   "execution_count": 239,
   "id": "6f110f55",
   "metadata": {},
   "outputs": [
    {
     "name": "stdout",
     "output_type": "stream",
     "text": [
      "<class 'pandas.core.frame.DataFrame'>\n",
      "Int64Index: 766 entries, 0 to 767\n",
      "Data columns (total 9 columns):\n",
      " #   Column                    Non-Null Count  Dtype  \n",
      "---  ------                    --------------  -----  \n",
      " 0   Pregnancies               766 non-null    int64  \n",
      " 1   Glucose                   766 non-null    int64  \n",
      " 2   BloodPressure             766 non-null    int64  \n",
      " 3   SkinThickness             766 non-null    int64  \n",
      " 4   Insulin                   766 non-null    float64\n",
      " 5   BMI                       766 non-null    float64\n",
      " 6   DiabetesPedigreeFunction  766 non-null    float64\n",
      " 7   Age                       766 non-null    int64  \n",
      " 8   Outcome                   766 non-null    object \n",
      "dtypes: float64(3), int64(5), object(1)\n",
      "memory usage: 59.8+ KB\n"
     ]
    }
   ],
   "source": [
    "df.info()"
   ]
  },
  {
   "cell_type": "code",
   "execution_count": 240,
   "id": "4c66b81d",
   "metadata": {},
   "outputs": [
    {
     "data": {
      "text/html": [
       "<div>\n",
       "<style scoped>\n",
       "    .dataframe tbody tr th:only-of-type {\n",
       "        vertical-align: middle;\n",
       "    }\n",
       "\n",
       "    .dataframe tbody tr th {\n",
       "        vertical-align: top;\n",
       "    }\n",
       "\n",
       "    .dataframe thead th {\n",
       "        text-align: right;\n",
       "    }\n",
       "</style>\n",
       "<table border=\"1\" class=\"dataframe\">\n",
       "  <thead>\n",
       "    <tr style=\"text-align: right;\">\n",
       "      <th></th>\n",
       "      <th>Pregnancies</th>\n",
       "      <th>Glucose</th>\n",
       "      <th>BloodPressure</th>\n",
       "      <th>SkinThickness</th>\n",
       "      <th>Insulin</th>\n",
       "      <th>BMI</th>\n",
       "      <th>DiabetesPedigreeFunction</th>\n",
       "      <th>Age</th>\n",
       "    </tr>\n",
       "  </thead>\n",
       "  <tbody>\n",
       "    <tr>\n",
       "      <th>count</th>\n",
       "      <td>766.00</td>\n",
       "      <td>766.00</td>\n",
       "      <td>766.00</td>\n",
       "      <td>766.00</td>\n",
       "      <td>766.00</td>\n",
       "      <td>766.00</td>\n",
       "      <td>766.00</td>\n",
       "      <td>766.00</td>\n",
       "    </tr>\n",
       "    <tr>\n",
       "      <th>mean</th>\n",
       "      <td>3.84</td>\n",
       "      <td>120.82</td>\n",
       "      <td>69.11</td>\n",
       "      <td>20.59</td>\n",
       "      <td>81.25</td>\n",
       "      <td>32.01</td>\n",
       "      <td>0.47</td>\n",
       "      <td>33.25</td>\n",
       "    </tr>\n",
       "    <tr>\n",
       "      <th>std</th>\n",
       "      <td>3.37</td>\n",
       "      <td>31.93</td>\n",
       "      <td>19.38</td>\n",
       "      <td>15.94</td>\n",
       "      <td>116.22</td>\n",
       "      <td>7.88</td>\n",
       "      <td>0.33</td>\n",
       "      <td>11.77</td>\n",
       "    </tr>\n",
       "    <tr>\n",
       "      <th>min</th>\n",
       "      <td>0.00</td>\n",
       "      <td>0.00</td>\n",
       "      <td>0.00</td>\n",
       "      <td>0.00</td>\n",
       "      <td>0.00</td>\n",
       "      <td>0.00</td>\n",
       "      <td>0.08</td>\n",
       "      <td>21.00</td>\n",
       "    </tr>\n",
       "    <tr>\n",
       "      <th>25%</th>\n",
       "      <td>1.00</td>\n",
       "      <td>99.00</td>\n",
       "      <td>62.00</td>\n",
       "      <td>0.00</td>\n",
       "      <td>0.00</td>\n",
       "      <td>27.32</td>\n",
       "      <td>0.24</td>\n",
       "      <td>24.00</td>\n",
       "    </tr>\n",
       "    <tr>\n",
       "      <th>50%</th>\n",
       "      <td>3.00</td>\n",
       "      <td>117.00</td>\n",
       "      <td>72.00</td>\n",
       "      <td>23.00</td>\n",
       "      <td>36.50</td>\n",
       "      <td>32.00</td>\n",
       "      <td>0.37</td>\n",
       "      <td>29.00</td>\n",
       "    </tr>\n",
       "    <tr>\n",
       "      <th>75%</th>\n",
       "      <td>6.00</td>\n",
       "      <td>140.00</td>\n",
       "      <td>80.00</td>\n",
       "      <td>32.00</td>\n",
       "      <td>130.00</td>\n",
       "      <td>36.60</td>\n",
       "      <td>0.63</td>\n",
       "      <td>41.00</td>\n",
       "    </tr>\n",
       "    <tr>\n",
       "      <th>max</th>\n",
       "      <td>17.00</td>\n",
       "      <td>199.00</td>\n",
       "      <td>122.00</td>\n",
       "      <td>99.00</td>\n",
       "      <td>846.00</td>\n",
       "      <td>67.10</td>\n",
       "      <td>2.42</td>\n",
       "      <td>81.00</td>\n",
       "    </tr>\n",
       "  </tbody>\n",
       "</table>\n",
       "</div>"
      ],
      "text/plain": [
       "       Pregnancies  Glucose  BloodPressure  SkinThickness  Insulin    BMI  \\\n",
       "count       766.00   766.00         766.00         766.00   766.00 766.00   \n",
       "mean          3.84   120.82          69.11          20.59    81.25  32.01   \n",
       "std           3.37    31.93          19.38          15.94   116.22   7.88   \n",
       "min           0.00     0.00           0.00           0.00     0.00   0.00   \n",
       "25%           1.00    99.00          62.00           0.00     0.00  27.32   \n",
       "50%           3.00   117.00          72.00          23.00    36.50  32.00   \n",
       "75%           6.00   140.00          80.00          32.00   130.00  36.60   \n",
       "max          17.00   199.00         122.00          99.00   846.00  67.10   \n",
       "\n",
       "       DiabetesPedigreeFunction    Age  \n",
       "count                    766.00 766.00  \n",
       "mean                       0.47  33.25  \n",
       "std                        0.33  11.77  \n",
       "min                        0.08  21.00  \n",
       "25%                        0.24  24.00  \n",
       "50%                        0.37  29.00  \n",
       "75%                        0.63  41.00  \n",
       "max                        2.42  81.00  "
      ]
     },
     "execution_count": 240,
     "metadata": {},
     "output_type": "execute_result"
    }
   ],
   "source": [
    "df.describe()"
   ]
  },
  {
   "cell_type": "code",
   "execution_count": 241,
   "id": "a065a372",
   "metadata": {},
   "outputs": [
    {
     "data": {
      "text/plain": [
       "(766, 9)"
      ]
     },
     "execution_count": 241,
     "metadata": {},
     "output_type": "execute_result"
    }
   ],
   "source": [
    "df.shape"
   ]
  },
  {
   "cell_type": "code",
   "execution_count": 242,
   "id": "f7207198",
   "metadata": {},
   "outputs": [],
   "source": [
    "df=df.drop_duplicates()"
   ]
  },
  {
   "cell_type": "code",
   "execution_count": 243,
   "id": "562673e8",
   "metadata": {},
   "outputs": [
    {
     "data": {
      "text/plain": [
       "(766, 9)"
      ]
     },
     "execution_count": 243,
     "metadata": {},
     "output_type": "execute_result"
    }
   ],
   "source": [
    "df.shape"
   ]
  },
  {
   "cell_type": "code",
   "execution_count": 244,
   "id": "6afb1b48",
   "metadata": {},
   "outputs": [],
   "source": [
    "corr = df.corr()"
   ]
  },
  {
   "cell_type": "code",
   "execution_count": 245,
   "id": "e98e50ff",
   "metadata": {},
   "outputs": [
    {
     "data": {
      "text/plain": [
       "<AxesSubplot:>"
      ]
     },
     "execution_count": 245,
     "metadata": {},
     "output_type": "execute_result"
    },
    {
     "data": {
      "image/png": "[encoded data removed]",
      "text/plain": [
       "<Figure size 640x480 with 2 Axes>"
      ]
     },
     "metadata": {},
     "output_type": "display_data"
    }
   ],
   "source": [
    "sns.heatmap(corr,annot=True)"
   ]
  },
  {
   "cell_type": "code",
   "execution_count": 246,
   "id": "e3394b6d",
   "metadata": {},
   "outputs": [
    {
     "data": {
      "text/plain": [
       "Index(['Pregnancies', 'Glucose', 'BloodPressure', 'SkinThickness', 'Insulin',\n",
       "       'BMI', 'DiabetesPedigreeFunction', 'Age', 'Outcome'],\n",
       "      dtype='object')"
      ]
     },
     "execution_count": 246,
     "metadata": {},
     "output_type": "execute_result"
    }
   ],
   "source": [
    "df.columns"
   ]
  },
  {
   "cell_type": "code",
   "execution_count": 247,
   "id": "c3558fc1",
   "metadata": {},
   "outputs": [
    {
     "name": "stdout",
     "output_type": "stream",
     "text": [
      "Negative (0):  499\n",
      "Positive (1):  267\n"
     ]
    },
    {
     "data": {
      "image/png": "[encoded data removed]",
      "text/plain": [
       "<Figure size 1000x500 with 2 Axes>"
      ]
     },
     "metadata": {},
     "output_type": "display_data"
    }
   ],
   "source": [
    "f,ax=plt.subplots(1,2,figsize=(10,5))\n",
    "df['Outcome'].value_counts().plot.pie(explode=[0,0.1],autopct='%1.1f%%',ax=ax[0],shadow=True)\n",
    "ax[0].set_title('Outcome')\n",
    "sns.countplot('Outcome',data=df,ax=ax[1])\n",
    "ax[1].set_title('Outcome')\n",
    "N,P = df['Outcome'].value_counts()\n",
    "print('Negative (0): ',N)\n",
    "print('Positive (1): ',P)\n",
    "plt.show()"
   ]
  },
  {
   "cell_type": "code",
   "execution_count": 248,
   "id": "0bf384ce",
   "metadata": {},
   "outputs": [
    {
     "data": {
      "image/png": "[encoded data removed]",
      "text/plain": [
       "<Figure size 1000x1000 with 9 Axes>"
      ]
     },
     "metadata": {},
     "output_type": "display_data"
    }
   ],
   "source": [
    "df.hist(bins=10,figsize=(10,10))\n",
    "plt.show()"
   ]
  },
  {
   "cell_type": "code",
   "execution_count": 249,
   "id": "03df35cb",
   "metadata": {},
   "outputs": [],
   "source": [
    "target_name = 'Outcome'\n",
    "y = df[\"Outcome\"]\n",
    "x = df.drop(\"Outcome\", axis=1)"
   ]
  },
  {
   "cell_type": "code",
   "execution_count": 250,
   "id": "784a144c",
   "metadata": {},
   "outputs": [
    {
     "data": {
      "text/html": [
       "<div>\n",
       "<style scoped>\n",
       "    .dataframe tbody tr th:only-of-type {\n",
       "        vertical-align: middle;\n",
       "    }\n",
       "\n",
       "    .dataframe tbody tr th {\n",
       "        vertical-align: top;\n",
       "    }\n",
       "\n",
       "    .dataframe thead th {\n",
       "        text-align: right;\n",
       "    }\n",
       "</style>\n",
       "<table border=\"1\" class=\"dataframe\">\n",
       "  <thead>\n",
       "    <tr style=\"text-align: right;\">\n",
       "      <th></th>\n",
       "      <th>Pregnancies</th>\n",
       "      <th>Glucose</th>\n",
       "      <th>BloodPressure</th>\n",
       "      <th>SkinThickness</th>\n",
       "      <th>Insulin</th>\n",
       "      <th>BMI</th>\n",
       "      <th>DiabetesPedigreeFunction</th>\n",
       "      <th>Age</th>\n",
       "    </tr>\n",
       "  </thead>\n",
       "  <tbody>\n",
       "    <tr>\n",
       "      <th>0</th>\n",
       "      <td>6</td>\n",
       "      <td>148</td>\n",
       "      <td>72</td>\n",
       "      <td>35</td>\n",
       "      <td>250.00</td>\n",
       "      <td>33.60</td>\n",
       "      <td>0.63</td>\n",
       "      <td>50</td>\n",
       "    </tr>\n",
       "    <tr>\n",
       "      <th>1</th>\n",
       "      <td>1</td>\n",
       "      <td>85</td>\n",
       "      <td>66</td>\n",
       "      <td>29</td>\n",
       "      <td>300.00</td>\n",
       "      <td>26.60</td>\n",
       "      <td>0.35</td>\n",
       "      <td>31</td>\n",
       "    </tr>\n",
       "    <tr>\n",
       "      <th>3</th>\n",
       "      <td>1</td>\n",
       "      <td>89</td>\n",
       "      <td>66</td>\n",
       "      <td>23</td>\n",
       "      <td>94.00</td>\n",
       "      <td>28.10</td>\n",
       "      <td>0.17</td>\n",
       "      <td>21</td>\n",
       "    </tr>\n",
       "    <tr>\n",
       "      <th>4</th>\n",
       "      <td>0</td>\n",
       "      <td>137</td>\n",
       "      <td>40</td>\n",
       "      <td>35</td>\n",
       "      <td>168.00</td>\n",
       "      <td>43.10</td>\n",
       "      <td>2.29</td>\n",
       "      <td>33</td>\n",
       "    </tr>\n",
       "    <tr>\n",
       "      <th>6</th>\n",
       "      <td>3</td>\n",
       "      <td>78</td>\n",
       "      <td>50</td>\n",
       "      <td>32</td>\n",
       "      <td>88.00</td>\n",
       "      <td>31.00</td>\n",
       "      <td>0.25</td>\n",
       "      <td>26</td>\n",
       "    </tr>\n",
       "  </tbody>\n",
       "</table>\n",
       "</div>"
      ],
      "text/plain": [
       "   Pregnancies  Glucose  BloodPressure  SkinThickness  Insulin   BMI  \\\n",
       "0            6      148             72             35   250.00 33.60   \n",
       "1            1       85             66             29   300.00 26.60   \n",
       "3            1       89             66             23    94.00 28.10   \n",
       "4            0      137             40             35   168.00 43.10   \n",
       "6            3       78             50             32    88.00 31.00   \n",
       "\n",
       "   DiabetesPedigreeFunction  Age  \n",
       "0                      0.63   50  \n",
       "1                      0.35   31  \n",
       "3                      0.17   21  \n",
       "4                      2.29   33  \n",
       "6                      0.25   26  "
      ]
     },
     "execution_count": 250,
     "metadata": {},
     "output_type": "execute_result"
    }
   ],
   "source": [
    "x.head()"
   ]
  },
  {
   "cell_type": "code",
   "execution_count": 251,
   "id": "619ddb04",
   "metadata": {},
   "outputs": [
    {
     "data": {
      "text/plain": [
       "0    YES\n",
       "1     NO\n",
       "3     NO\n",
       "4    YES\n",
       "6    YES\n",
       "Name: Outcome, dtype: object"
      ]
     },
     "execution_count": 251,
     "metadata": {},
     "output_type": "execute_result"
    }
   ],
   "source": [
    "y.head()"
   ]
  },
  {
   "cell_type": "code",
   "execution_count": 252,
   "id": "acee1fbe",
   "metadata": {},
   "outputs": [],
   "source": [
    "from sklearn.preprocessing import StandardScaler\n",
    "scaler = StandardScaler()\n",
    "scaler.fit(x)\n",
    "SSX = scaler.transform(x)"
   ]
  },
  {
   "cell_type": "code",
   "execution_count": 253,
   "id": "d4360c73",
   "metadata": {},
   "outputs": [
    {
     "data": {
      "text/plain": [
       "array([[ 0.64185642,  0.85166573,  0.14944457, ...,  0.20149755,\n",
       "         0.46791825,  1.42372124],\n",
       "       [-0.84263034, -1.12238254, -0.16036474, ..., -0.68686772,\n",
       "        -0.36510973, -0.19093152],\n",
       "       [-0.84263034, -0.99704614, -0.16036474, ..., -0.49650374,\n",
       "        -0.92046172, -1.04074877],\n",
       "       ...,\n",
       "       [ 0.34495906,  0.00564505,  0.14944457, ..., -0.73763145,\n",
       "        -0.68504077, -0.27591325],\n",
       "       [-0.84263034,  0.16231554, -0.47017406, ..., -0.24268509,\n",
       "        -0.37114617,  1.16877606],\n",
       "       [-0.84263034, -0.87170974,  0.0461748 , ..., -0.20461229,\n",
       "        -0.47376556, -0.87078532]])"
      ]
     },
     "execution_count": 253,
     "metadata": {},
     "output_type": "execute_result"
    }
   ],
   "source": [
    "SSX"
   ]
  },
  {
   "cell_type": "code",
   "execution_count": 254,
   "id": "a8badef5",
   "metadata": {},
   "outputs": [],
   "source": [
    "from sklearn.model_selection import train_test_split\n",
    "x_train,x_test,y_train,y_test = train_test_split(SSX, y, test_size=0.2, random_state=7)"
   ]
  },
  {
   "cell_type": "code",
   "execution_count": 255,
   "id": "8f75b6e2",
   "metadata": {},
   "outputs": [
    {
     "data": {
      "text/plain": [
       "((612, 8), (612,))"
      ]
     },
     "execution_count": 255,
     "metadata": {},
     "output_type": "execute_result"
    }
   ],
   "source": [
    "x_train.shape,y_train.shape"
   ]
  },
  {
   "cell_type": "code",
   "execution_count": 256,
   "id": "39927100",
   "metadata": {},
   "outputs": [
    {
     "data": {
      "text/plain": [
       "((154, 8), (154,))"
      ]
     },
     "execution_count": 256,
     "metadata": {},
     "output_type": "execute_result"
    }
   ],
   "source": [
    "x_test.shape,y_test.shape"
   ]
  },
  {
   "cell_type": "code",
   "execution_count": 257,
   "id": "cce0a1dd",
   "metadata": {},
   "outputs": [
    {
     "data": {
      "text/plain": [
       "(154, 8)"
      ]
     },
     "execution_count": 257,
     "metadata": {},
     "output_type": "execute_result"
    }
   ],
   "source": [
    "x_test.shape"
   ]
  },
  {
   "cell_type": "code",
   "execution_count": 258,
   "id": "4ae7ac41",
   "metadata": {},
   "outputs": [
    {
     "data": {
      "text/plain": [
       "(612, 8)"
      ]
     },
     "execution_count": 258,
     "metadata": {},
     "output_type": "execute_result"
    }
   ],
   "source": [
    "x_train.shape"
   ]
  },
  {
   "cell_type": "code",
   "execution_count": 259,
   "id": "77c1985e",
   "metadata": {},
   "outputs": [
    {
     "data": {
      "text/plain": [
       "((154,), (612,))"
      ]
     },
     "execution_count": 259,
     "metadata": {},
     "output_type": "execute_result"
    }
   ],
   "source": [
    "y_test.shape, y_train.shape"
   ]
  },
  {
   "cell_type": "code",
   "execution_count": 260,
   "id": "0cf58317",
   "metadata": {},
   "outputs": [
    {
     "name": "stderr",
     "output_type": "stream",
     "text": [
      "100%|██████████████████████████████████████████████████████████████████████████████████| 29/29 [00:02<00:00, 13.33it/s]\n"
     ]
    }
   ],
   "source": [
    "\n",
    "from lazypredict.Supervised import LazyClassifier\n",
    "lzc = LazyClassifier()\n",
    "c = lzc.fit(x_train, x_test, y_train, y_test)"
   ]
  },
  {
   "cell_type": "code",
   "execution_count": 261,
   "id": "2caef7ae",
   "metadata": {},
   "outputs": [
    {
     "data": {
      "text/plain": [
       "(                               Accuracy  Balanced Accuracy ROC AUC  F1 Score  \\\n",
       " Model                                                                          \n",
       " AdaBoostClassifier                 0.79               0.75    None      0.78   \n",
       " CalibratedClassifierCV             0.80               0.73    None      0.79   \n",
       " RidgeClassifierCV                  0.79               0.72    None      0.77   \n",
       " NearestCentroid                    0.71               0.72    None      0.72   \n",
       " RidgeClassifier                    0.78               0.72    None      0.77   \n",
       " LinearDiscriminantAnalysis         0.77               0.71    None      0.76   \n",
       " LogisticRegression                 0.77               0.71    None      0.76   \n",
       " LinearSVC                          0.77               0.71    None      0.76   \n",
       " LGBMClassifier                     0.75               0.71    None      0.74   \n",
       " BaggingClassifier                  0.76               0.71    None      0.75   \n",
       " RandomForestClassifier             0.75               0.70    None      0.75   \n",
       " QuadraticDiscriminantAnalysis      0.75               0.70    None      0.75   \n",
       " SVC                                0.76               0.70    None      0.75   \n",
       " NuSVC                              0.76               0.70    None      0.75   \n",
       " KNeighborsClassifier               0.73               0.69    None      0.73   \n",
       " ExtraTreeClassifier                0.69               0.67    None      0.69   \n",
       " ExtraTreesClassifier               0.73               0.67    None      0.72   \n",
       " GaussianNB                         0.71               0.66    None      0.71   \n",
       " DecisionTreeClassifier             0.68               0.64    None      0.68   \n",
       " LabelSpreading                     0.68               0.64    None      0.68   \n",
       " LabelPropagation                   0.68               0.64    None      0.68   \n",
       " BernoulliNB                        0.68               0.63    None      0.68   \n",
       " Perceptron                         0.72               0.63    None      0.70   \n",
       " PassiveAggressiveClassifier        0.62               0.59    None      0.62   \n",
       " SGDClassifier                      0.68               0.59    None      0.66   \n",
       " DummyClassifier                    0.67               0.50    None      0.54   \n",
       " \n",
       "                                Time Taken  \n",
       " Model                                      \n",
       " AdaBoostClassifier                   0.22  \n",
       " CalibratedClassifierCV               0.25  \n",
       " RidgeClassifierCV                    0.02  \n",
       " NearestCentroid                      0.02  \n",
       " RidgeClassifier                      0.03  \n",
       " LinearDiscriminantAnalysis           0.01  \n",
       " LogisticRegression                   0.03  \n",
       " LinearSVC                            0.08  \n",
       " LGBMClassifier                       0.15  \n",
       " BaggingClassifier                    0.09  \n",
       " RandomForestClassifier               0.44  \n",
       " QuadraticDiscriminantAnalysis        0.02  \n",
       " SVC                                  0.08  \n",
       " NuSVC                                0.07  \n",
       " KNeighborsClassifier                 0.02  \n",
       " ExtraTreeClassifier                  0.02  \n",
       " ExtraTreesClassifier                 0.30  \n",
       " GaussianNB                           0.02  \n",
       " DecisionTreeClassifier               0.02  \n",
       " LabelSpreading                       0.05  \n",
       " LabelPropagation                     0.04  \n",
       " BernoulliNB                          0.02  \n",
       " Perceptron                           0.02  \n",
       " PassiveAggressiveClassifier          0.02  \n",
       " SGDClassifier                        0.02  \n",
       " DummyClassifier                      0.02  ,\n",
       "                                Accuracy  Balanced Accuracy ROC AUC  F1 Score  \\\n",
       " Model                                                                          \n",
       " AdaBoostClassifier                 0.79               0.75    None      0.78   \n",
       " CalibratedClassifierCV             0.80               0.73    None      0.79   \n",
       " RidgeClassifierCV                  0.79               0.72    None      0.77   \n",
       " NearestCentroid                    0.71               0.72    None      0.72   \n",
       " RidgeClassifier                    0.78               0.72    None      0.77   \n",
       " LinearDiscriminantAnalysis         0.77               0.71    None      0.76   \n",
       " LogisticRegression                 0.77               0.71    None      0.76   \n",
       " LinearSVC                          0.77               0.71    None      0.76   \n",
       " LGBMClassifier                     0.75               0.71    None      0.74   \n",
       " BaggingClassifier                  0.76               0.71    None      0.75   \n",
       " RandomForestClassifier             0.75               0.70    None      0.75   \n",
       " QuadraticDiscriminantAnalysis      0.75               0.70    None      0.75   \n",
       " SVC                                0.76               0.70    None      0.75   \n",
       " NuSVC                              0.76               0.70    None      0.75   \n",
       " KNeighborsClassifier               0.73               0.69    None      0.73   \n",
       " ExtraTreeClassifier                0.69               0.67    None      0.69   \n",
       " ExtraTreesClassifier               0.73               0.67    None      0.72   \n",
       " GaussianNB                         0.71               0.66    None      0.71   \n",
       " DecisionTreeClassifier             0.68               0.64    None      0.68   \n",
       " LabelSpreading                     0.68               0.64    None      0.68   \n",
       " LabelPropagation                   0.68               0.64    None      0.68   \n",
       " BernoulliNB                        0.68               0.63    None      0.68   \n",
       " Perceptron                         0.72               0.63    None      0.70   \n",
       " PassiveAggressiveClassifier        0.62               0.59    None      0.62   \n",
       " SGDClassifier                      0.68               0.59    None      0.66   \n",
       " DummyClassifier                    0.67               0.50    None      0.54   \n",
       " \n",
       "                                Time Taken  \n",
       " Model                                      \n",
       " AdaBoostClassifier                   0.22  \n",
       " CalibratedClassifierCV               0.25  \n",
       " RidgeClassifierCV                    0.02  \n",
       " NearestCentroid                      0.02  \n",
       " RidgeClassifier                      0.03  \n",
       " LinearDiscriminantAnalysis           0.01  \n",
       " LogisticRegression                   0.03  \n",
       " LinearSVC                            0.08  \n",
       " LGBMClassifier                       0.15  \n",
       " BaggingClassifier                    0.09  \n",
       " RandomForestClassifier               0.44  \n",
       " QuadraticDiscriminantAnalysis        0.02  \n",
       " SVC                                  0.08  \n",
       " NuSVC                                0.07  \n",
       " KNeighborsClassifier                 0.02  \n",
       " ExtraTreeClassifier                  0.02  \n",
       " ExtraTreesClassifier                 0.30  \n",
       " GaussianNB                           0.02  \n",
       " DecisionTreeClassifier               0.02  \n",
       " LabelSpreading                       0.05  \n",
       " LabelPropagation                     0.04  \n",
       " BernoulliNB                          0.02  \n",
       " Perceptron                           0.02  \n",
       " PassiveAggressiveClassifier          0.02  \n",
       " SGDClassifier                        0.02  \n",
       " DummyClassifier                      0.02  )"
      ]
     },
     "execution_count": 261,
     "metadata": {},
     "output_type": "execute_result"
    }
   ],
   "source": [
    "c"
   ]
  },
  {
   "cell_type": "code",
   "execution_count": 262,
   "id": "926cf232",
   "metadata": {},
   "outputs": [],
   "source": [
    "from sklearn.calibration import CalibratedClassifierCV\n",
    "cccv = CalibratedClassifierCV()\n",
    "model = cccv.fit(x_train, y_train)"
   ]
  },
  {
   "cell_type": "code",
   "execution_count": 263,
   "id": "9c7be5f0",
   "metadata": {},
   "outputs": [],
   "source": [
    "y_predict = model.predict(x_test)"
   ]
  },
  {
   "cell_type": "code",
   "execution_count": 264,
   "id": "3f8efbbb",
   "metadata": {},
   "outputs": [
    {
     "data": {
      "text/plain": [
       "array(['YES', 'YES', 'NO', 'YES', 'NO', 'NO', 'NO', 'YES', 'NO', 'NO',\n",
       "       'YES', 'NO', 'NO', 'NO', 'NO', 'YES', 'YES', 'YES', 'NO', 'NO',\n",
       "       'NO', 'NO', 'NO', 'NO', 'NO', 'NO', 'NO', 'NO', 'NO', 'YES', 'NO',\n",
       "       'YES', 'YES', 'YES', 'YES', 'NO', 'NO', 'NO', 'NO', 'NO', 'NO',\n",
       "       'NO', 'NO', 'NO', 'NO', 'NO', 'NO', 'YES', 'NO', 'NO', 'NO', 'NO',\n",
       "       'NO', 'NO', 'NO', 'YES', 'NO', 'NO', 'YES', 'NO', 'NO', 'NO', 'NO',\n",
       "       'NO', 'NO', 'NO', 'NO', 'YES', 'NO', 'NO', 'NO', 'NO', 'NO', 'NO',\n",
       "       'NO', 'NO', 'NO', 'NO', 'NO', 'NO', 'NO', 'NO', 'YES', 'NO', 'NO',\n",
       "       'NO', 'YES', 'NO', 'YES', 'NO', 'NO', 'NO', 'YES', 'NO', 'NO',\n",
       "       'NO', 'NO', 'NO', 'NO', 'NO', 'NO', 'NO', 'NO', 'NO', 'NO', 'NO',\n",
       "       'NO', 'NO', 'NO', 'NO', 'YES', 'NO', 'YES', 'YES', 'NO', 'NO',\n",
       "       'NO', 'NO', 'NO', 'YES', 'NO', 'YES', 'NO', 'NO', 'YES', 'NO',\n",
       "       'NO', 'NO', 'NO', 'NO', 'YES', 'NO', 'NO', 'YES', 'YES', 'YES',\n",
       "       'NO', 'NO', 'NO', 'NO', 'NO', 'NO', 'YES', 'NO', 'NO', 'NO', 'NO',\n",
       "       'NO', 'NO', 'YES', 'NO', 'YES', 'NO', 'NO'], dtype=object)"
      ]
     },
     "execution_count": 264,
     "metadata": {},
     "output_type": "execute_result"
    }
   ],
   "source": [
    "y_predict"
   ]
  },
  {
   "cell_type": "code",
   "execution_count": 265,
   "id": "e2761ce4",
   "metadata": {},
   "outputs": [
    {
     "data": {
      "text/plain": [
       "0.7987012987012987"
      ]
     },
     "execution_count": 265,
     "metadata": {},
     "output_type": "execute_result"
    }
   ],
   "source": [
    "from sklearn.metrics import accuracy_score\n",
    "accuracy_score(y_predict, y_test)"
   ]
  },
  {
   "cell_type": "code",
   "execution_count": 266,
   "id": "bb901805",
   "metadata": {},
   "outputs": [
    {
     "data": {
      "text/html": [
       "<div>\n",
       "<style scoped>\n",
       "    .dataframe tbody tr th:only-of-type {\n",
       "        vertical-align: middle;\n",
       "    }\n",
       "\n",
       "    .dataframe tbody tr th {\n",
       "        vertical-align: top;\n",
       "    }\n",
       "\n",
       "    .dataframe thead th {\n",
       "        text-align: right;\n",
       "    }\n",
       "</style>\n",
       "<table border=\"1\" class=\"dataframe\">\n",
       "  <thead>\n",
       "    <tr style=\"text-align: right;\">\n",
       "      <th></th>\n",
       "      <th>Auctual values</th>\n",
       "      <th>pedicted values</th>\n",
       "    </tr>\n",
       "  </thead>\n",
       "  <tbody>\n",
       "    <tr>\n",
       "      <th>237</th>\n",
       "      <td>YES</td>\n",
       "      <td>YES</td>\n",
       "    </tr>\n",
       "    <tr>\n",
       "      <th>715</th>\n",
       "      <td>YES</td>\n",
       "      <td>YES</td>\n",
       "    </tr>\n",
       "    <tr>\n",
       "      <th>766</th>\n",
       "      <td>YES</td>\n",
       "      <td>NO</td>\n",
       "    </tr>\n",
       "    <tr>\n",
       "      <th>498</th>\n",
       "      <td>YES</td>\n",
       "      <td>YES</td>\n",
       "    </tr>\n",
       "    <tr>\n",
       "      <th>63</th>\n",
       "      <td>NO</td>\n",
       "      <td>NO</td>\n",
       "    </tr>\n",
       "    <tr>\n",
       "      <th>...</th>\n",
       "      <td>...</td>\n",
       "      <td>...</td>\n",
       "    </tr>\n",
       "    <tr>\n",
       "      <th>338</th>\n",
       "      <td>YES</td>\n",
       "      <td>YES</td>\n",
       "    </tr>\n",
       "    <tr>\n",
       "      <th>309</th>\n",
       "      <td>YES</td>\n",
       "      <td>NO</td>\n",
       "    </tr>\n",
       "    <tr>\n",
       "      <th>72</th>\n",
       "      <td>YES</td>\n",
       "      <td>YES</td>\n",
       "    </tr>\n",
       "    <tr>\n",
       "      <th>747</th>\n",
       "      <td>NO</td>\n",
       "      <td>NO</td>\n",
       "    </tr>\n",
       "    <tr>\n",
       "      <th>616</th>\n",
       "      <td>NO</td>\n",
       "      <td>NO</td>\n",
       "    </tr>\n",
       "  </tbody>\n",
       "</table>\n",
       "<p>154 rows × 2 columns</p>\n",
       "</div>"
      ],
      "text/plain": [
       "    Auctual values pedicted values\n",
       "237            YES             YES\n",
       "715            YES             YES\n",
       "766            YES              NO\n",
       "498            YES             YES\n",
       "63              NO              NO\n",
       "..             ...             ...\n",
       "338            YES             YES\n",
       "309            YES              NO\n",
       "72             YES             YES\n",
       "747             NO              NO\n",
       "616             NO              NO\n",
       "\n",
       "[154 rows x 2 columns]"
      ]
     },
     "execution_count": 266,
     "metadata": {},
     "output_type": "execute_result"
    }
   ],
   "source": [
    "pd.DataFrame({\"Auctual values\":y_test, \"pedicted values\": y_predict})"
   ]
  },
  {
   "cell_type": "code",
   "execution_count": 267,
   "id": "460cd03c",
   "metadata": {},
   "outputs": [
    {
     "data": {
      "text/plain": [
       "['diabets_prediction']"
      ]
     },
     "execution_count": 267,
     "metadata": {},
     "output_type": "execute_result"
    }
   ],
   "source": [
    "joblib.dump(cccv, \"diabets_prediction\")"
   ]
  },
  {
   "cell_type": "code",
   "execution_count": 268,
   "id": "6e939d46",
   "metadata": {},
   "outputs": [],
   "source": [
    "model = joblib.load(\"diabets_prediction\")"
   ]
  },
  {
   "cell_type": "code",
   "execution_count": 269,
   "id": "8220b327",
   "metadata": {},
   "outputs": [
    {
     "data": {
      "text/plain": [
       "array(['YES'], dtype=object)"
      ]
     },
     "execution_count": 269,
     "metadata": {},
     "output_type": "execute_result"
    }
   ],
   "source": [
    "model.predict([[6, 148, 72, 35, 250.00, 33.60, 0.63, 50]])"
   ]
  },
  {
   "cell_type": "code",
   "execution_count": null,
   "id": "6d73a722",
   "metadata": {},
   "outputs": [],
   "source": []
  }
 ],
 "metadata": {
  "kernelspec": {
   "display_name": "Python 3 (ipykernel)",
   "language": "python",
   "name": "python3"
  },
  "language_info": {
   "codemirror_mode": {
    "name": "ipython",
    "version": 3
   },
   "file_extension": ".py",
   "mimetype": "text/x-python",
   "name": "python",
   "nbconvert_exporter": "python",
   "pygments_lexer": "ipython3",
   "version": "3.9.13"
  }
 },
 "nbformat": 4,
 "nbformat_minor": 5
}
